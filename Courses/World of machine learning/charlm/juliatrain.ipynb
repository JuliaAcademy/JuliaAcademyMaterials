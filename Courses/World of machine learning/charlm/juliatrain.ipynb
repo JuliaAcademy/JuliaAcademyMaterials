{
 "cells": [
  {
   "cell_type": "markdown",
   "metadata": {
    "slideshow": {
     "slide_type": "slide"
    }
   },
   "source": [
    "# Character based RNN language model trained on Julia code\n",
    "(c) Deniz Yuret, 2018. Based on http://karpathy.github.io/2015/05/21/rnn-effectiveness."
   ]
  },
  {
   "cell_type": "code",
   "execution_count": 1,
   "metadata": {},
   "outputs": [],
   "source": [
    "using Pkg\n",
    "for p in (\"Knet\",\"ProgressMeter\")\n",
    "    haskey(Pkg.installed(),p) || Pkg.add(p)\n",
    "end"
   ]
  },
  {
   "cell_type": "code",
   "execution_count": 2,
   "metadata": {
    "slideshow": {
     "slide_type": "slide"
    }
   },
   "outputs": [],
   "source": [
    "RNNTYPE = :lstm\n",
    "BATCHSIZE = 64\n",
    "SEQLENGTH = 64\n",
    "INPUTSIZE = 512\n",
    "VOCABSIZE = 128\n",
    "HIDDENSIZE = 512\n",
    "NUMLAYERS = 2\n",
    "DROPOUT = 0.0\n",
    "LR=0.001\n",
    "BETA_1=0.9\n",
    "BETA_2=0.999\n",
    "EPS=1e-08\n",
    "EPOCHS = 10\n",
    "ENV[\"COLUMNS\"]=92;"
   ]
  },
  {
   "cell_type": "markdown",
   "metadata": {},
   "source": [
    "## Load and minibatch data"
   ]
  },
  {
   "cell_type": "code",
   "execution_count": 3,
   "metadata": {},
   "outputs": [
    {
     "data": {
      "text/plain": [
       "9131265"
      ]
     },
     "execution_count": 3,
     "metadata": {},
     "output_type": "execute_result"
    }
   ],
   "source": [
    "base = joinpath(Sys.BINDIR, Base.DATAROOTDIR, \"julia\")\n",
    "text = \"\"\n",
    "for (root,dirs,files) in walkdir(base)\n",
    "    for f in files\n",
    "        f[end-2:end] == \".jl\" || continue\n",
    "        text *= read(joinpath(root,f), String)\n",
    "    end\n",
    "    # println((root,length(files),all(f->contains(f,\".jl\"),files)))\n",
    "end\n",
    "length(text)"
   ]
  },
  {
   "cell_type": "code",
   "execution_count": 4,
   "metadata": {},
   "outputs": [
    {
     "data": {
      "text/plain": [
       "3642×2 Array{Any,2}:\n",
       " ' '   1971836\n",
       " 'e'    548012\n",
       " 't'    477724\n",
       " 'n'    343215\n",
       " 'r'    338122\n",
       " 'i'    329419\n",
       " 's'    325865\n",
       " 'a'    316561\n",
       " 'o'    275999\n",
       " '\\n'   265652\n",
       " 'l'    203478\n",
       " ','    200306\n",
       " ')'    194094\n",
       " ⋮            \n",
       " 'ה'         1\n",
       " '🍢'         1\n",
       " '𝗾'         1\n",
       " '𝔔'         1\n",
       " 'É'         1\n",
       " '𝓟'         1\n",
       " '𝚿'         1\n",
       " '𝕨'         1\n",
       " 'ɛ'         1\n",
       " 'Χ'         1\n",
       " '🕙'         1\n",
       " 'ℚ'         1"
      ]
     },
     "execution_count": 4,
     "metadata": {},
     "output_type": "execute_result"
    }
   ],
   "source": [
    "charcnt = Dict{Char,Int}()\n",
    "for c in text; charcnt[c]=1+get(charcnt,c,0); end\n",
    "chars = sort(collect(keys(charcnt)), by=(x->charcnt[x]), rev=true)\n",
    "charid = Dict{Char,Int}()\n",
    "for i=1:length(chars); charid[chars[i]]=i; end\n",
    "hcat(chars, map(c->charcnt[c],chars))"
   ]
  },
  {
   "cell_type": "code",
   "execution_count": 5,
   "metadata": {},
   "outputs": [
    {
     "data": {
      "text/plain": [
       "(9131265, 8606977, 524288)"
      ]
     },
     "execution_count": 5,
     "metadata": {},
     "output_type": "execute_result"
    }
   ],
   "source": [
    "data = map(c->charid[c], collect(text))\n",
    "data[data .> VOCABSIZE] .= VOCABSIZE\n",
    "ntst = 1<<19\n",
    "tst = data[1:ntst]\n",
    "trn = data[1+ntst:end]\n",
    "length.((data,trn,tst))"
   ]
  },
  {
   "cell_type": "code",
   "execution_count": 6,
   "metadata": {},
   "outputs": [
    {
     "name": "stdout",
     "output_type": "stream",
     "text": [
      "abstract_call(iteratef, (), Any[Const(iteratef), itertype, statetype], vtypes, sv)\n",
      "        stateordonet = widenconst(stateordonet)\n",
      "    end\n",
      "    if stateordonet === Nothing\n",
      "        return ret\n",
      "    end\n",
      "    while valtype !== Any\n",
      "        nounion = typesubtract(stateordonet, Nothing)\n",
      "        if !isa(nounion, DataType) || !(nounion <: Tuple) || isvatuple(nounion) || length(nounion.parameters) != 2\n",
      "            valtype = Any\n",
      "            break\n",
      "        end\n",
      "        if nounion.parameters[1] <: valtype && nounion.parameters[2] <: statetype\n",
      "            break\n",
      "        end\n",
      "        valtype = tmerge(valtype, nounion.parameters[1])\n",
      "        statetype = tmerge(statetype, nounion.parameters[2])\n",
      "        stateordonet = abstract_call(iteratef, (), Any[Const(iteratef), itertype, statetype], vtypes, sv)\n",
      "        stateordonet = widenconst(stateordonet)\n",
      "    end\n",
      "    push!(ret, Vararg{valtype})\n",
      "    return ret\n",
      "end\n",
      "\n",
      "# do apply(af, fargs...), where af is a function value\n",
      "function abstract_apply(@nospecialize(aft), fargs::Un\n"
     ]
    }
   ],
   "source": [
    "# Print a sample\n",
    "r = rand(1:(length(trn)-1000))\n",
    "println(string(chars[trn[r:r+1000]]...)) "
   ]
  },
  {
   "cell_type": "code",
   "execution_count": 7,
   "metadata": {
    "slideshow": {
     "slide_type": "slide"
    }
   },
   "outputs": [
    {
     "data": {
      "text/plain": [
       "(2101, 127)"
      ]
     },
     "execution_count": 7,
     "metadata": {},
     "output_type": "execute_result"
    }
   ],
   "source": [
    "# Minibatch data\n",
    "using Knet: minibatch\n",
    "function mb(a)\n",
    "    N = length(a) ÷ BATCHSIZE\n",
    "    x = reshape(a[1:N*BATCHSIZE],N,BATCHSIZE)' # reshape full data to (B,N) with contiguous rows\n",
    "    minibatch(x[:,1:N-1], x[:,2:N], SEQLENGTH) # split into (B,T) blocks \n",
    "end\n",
    "dtrn,dtst = mb.((trn,tst))\n",
    "length.((dtrn,dtst))"
   ]
  },
  {
   "cell_type": "code",
   "execution_count": 8,
   "metadata": {},
   "outputs": [
    {
     "data": {
      "text/plain": [
       "(\"64×64 Array{Int64,2}\", \"64×64 Array{Int64,2}\")"
      ]
     },
     "execution_count": 8,
     "metadata": {},
     "output_type": "execute_result"
    }
   ],
   "source": [
    "summary.(first(dtrn))  # each x and y have dimensions (BATCHSIZE,SEQLENGTH)"
   ]
  },
  {
   "cell_type": "markdown",
   "metadata": {},
   "source": [
    "## Define and initialize model"
   ]
  },
  {
   "cell_type": "code",
   "execution_count": 9,
   "metadata": {},
   "outputs": [],
   "source": [
    "using Knet: param, param0, RNN, dropout"
   ]
  },
  {
   "cell_type": "code",
   "execution_count": 10,
   "metadata": {},
   "outputs": [],
   "source": [
    "struct CharLM; input; rnn; output; end\n",
    "\n",
    "CharLM(vocab::Int,input::Int,hidden::Int; o...) = \n",
    "    CharLM(Embed(vocab,input), RNN(input,hidden; o...), Linear(hidden,vocab))\n",
    "\n",
    "function (c::CharLM)(x; pdrop=0, hidden=nothing)\n",
    "    x = c.input(x)                # (B,T)->(X,B,T)\n",
    "    x = dropout(x, pdrop)\n",
    "    x = c.rnn(x, hidden=hidden)   # (H,B,T)\n",
    "    x = dropout(x, pdrop)\n",
    "    x = reshape(x, size(x,1), :)  # (H,B*T)\n",
    "    return c.output(x)            # (V,B*T)\n",
    "end"
   ]
  },
  {
   "cell_type": "code",
   "execution_count": 11,
   "metadata": {},
   "outputs": [],
   "source": [
    "struct Embed; w; end\n",
    "\n",
    "Embed(vocab::Int,embed::Int)=Embed(param(embed,vocab))\n",
    "\n",
    "(e::Embed)(x) = e.w[:,x]"
   ]
  },
  {
   "cell_type": "code",
   "execution_count": 12,
   "metadata": {},
   "outputs": [],
   "source": [
    "struct Linear; w; b; end\n",
    "\n",
    "Linear(input::Int, output::Int)=Linear(param(output,input), param0(output))\n",
    "\n",
    "(l::Linear)(x) = l.w * x .+ l.b"
   ]
  },
  {
   "cell_type": "code",
   "execution_count": 13,
   "metadata": {},
   "outputs": [
    {
     "data": {
      "text/plain": [
       "trainresults (generic function with 1 method)"
      ]
     },
     "execution_count": 13,
     "metadata": {},
     "output_type": "execute_result"
    }
   ],
   "source": [
    "# For running experiments\n",
    "using Knet; import ProgressMeter\n",
    "function converge(alpha = 0.001)\n",
    "    avgx = Inf\n",
    "    avgp = -0.1\n",
    "    updates = 0\n",
    "    prog = ProgressMeter.ProgressThresh(-1.0, 2.0)                                                                                      \n",
    "    function callback(x)\n",
    "        updates += 1\n",
    "        x = value(x)\n",
    "        if avgx == Inf; avgx = x; end\n",
    "        p = x - avgx\n",
    "        avgx = alpha * x + (1-alpha) * avgx\n",
    "        avgp = alpha * p + (1-alpha) * avgp\n",
    "        #@show avgp,avgx\n",
    "        ProgressMeter.update!(prog,avgx; showvalues=[(:updates,updates),])                                                                                                             \n",
    "        return avgp <= 0.0\n",
    "    end\n",
    "    return callback\n",
    "end\n",
    "function trainresults(file,model,chars)\n",
    "    if (print(\"Train from scratch? \");readline()[1]=='y')\n",
    "        opt = Adam(lr=LR, beta1=BETA_1, beta2=BETA_2, eps=EPS)\n",
    "        callback = converge()\n",
    "        train!(model, dtrn; callback=callback, optimizer=opt, pdrop=DROPOUT, hidden=[])\n",
    "        Knet.gc(); Knet.save(file,\"model\",model,\"chars\",chars)\n",
    "    else\n",
    "        isfile(file) || download(\"http://people.csail.mit.edu/deniz/models/tutorial/$file\",file)\n",
    "        model,chars = Knet.load(file,\"model\",\"chars\")\n",
    "    end\n",
    "    return model,chars\n",
    "end"
   ]
  },
  {
   "cell_type": "code",
   "execution_count": 14,
   "metadata": {
    "scrolled": true
   },
   "outputs": [
    {
     "name": "stdout",
     "output_type": "stream",
     "text": [
      "Train from scratch? stdin> n\n"
     ]
    }
   ],
   "source": [
    "clm,chars = trainresults(\"juliacharlm.jld2\", \n",
    "    CharLM(VOCABSIZE, INPUTSIZE, HIDDENSIZE; rnnType=RNNTYPE, numLayers=NUMLAYERS, dropout=DROPOUT),chars);"
   ]
  },
  {
   "cell_type": "code",
   "execution_count": 15,
   "metadata": {},
   "outputs": [
    {
     "data": {
      "text/plain": [
       "4.802427f0"
      ]
     },
     "execution_count": 15,
     "metadata": {},
     "output_type": "execute_result"
    }
   ],
   "source": [
    "using Knet: nll\n",
    "exp(nll(clm,dtst))  # Perplexity"
   ]
  },
  {
   "cell_type": "code",
   "execution_count": 16,
   "metadata": {
    "slideshow": {
     "slide_type": "slide"
    }
   },
   "outputs": [],
   "source": [
    "# Sample from trained model\n",
    "\n",
    "function generate(model,chars,n)\n",
    "    function sample(y)\n",
    "        p = Array(exp.(y)); r = rand()*sum(p)\n",
    "        for j=1:length(p); (r -= p[j]) < 0 && return j; end\n",
    "    end\n",
    "    x = 1\n",
    "    h = []\n",
    "    for i=1:n\n",
    "        y = model([x], hidden=h)\n",
    "        x = sample(y)\n",
    "        print(chars[x])\n",
    "    end\n",
    "    println()\n",
    "end;"
   ]
  },
  {
   "cell_type": "code",
   "execution_count": 17,
   "metadata": {
    "slideshow": {
     "slide_type": "slide"
    }
   },
   "outputs": [
    {
     "name": "stdout",
     "output_type": "stream",
     "text": [
      "           = 1^34\n",
      "        # log full part and a flat in the off cardableing the task to be finding total flower here, we don't wrap for binary first\n",
      "        # but implement dimension of Each -c FailedMutable of duest\n",
      "        data = Bidx\n",
      "        for i in base\n",
      "        end\n",
      "        stelms = start_diff[start]\n",
      "        for i = line_inferred(mt.lastparsezeris(buffer))\n",
      "            return linfo\n",
      "        end\n",
      "        bittest(io) = false\n",
      "    end\n",
      "    return one1\n",
      "end\n",
      "\n",
      "function doubly_declared_floor(x::Float64, i::Float32, z::Float64, Float64, s)\n",
      "    x = BigFloat(y) # for Unicode cycle\n",
      "    # A UnitRanges numbers (upon multiple, how the convert to undef a core.neg*r.r): b\n",
      "    # least real zero if the sqrt integral the one made number v, a, but internal that i 100-24-big22, and the point rounds\n",
      "    w = f - mts[r.r]\n",
      "    if y !== z\n",
      "        # TODO: returns w throw is not representable\n",
      "        # put must match data has time conflicting\n",
      "        symsp = rand(rt, bt[r[], 0)]\n",
      "        c <= s8 || break\n",
      "    end\n",
      "\n",
      "  \n"
     ]
    }
   ],
   "source": [
    "generate(clm,chars,1000)"
   ]
  },
  {
   "cell_type": "code",
   "execution_count": null,
   "metadata": {},
   "outputs": [],
   "source": []
  }
 ],
 "metadata": {
  "accelerator": "GPU",
  "colab": {
   "collapsed_sections": [],
   "name": "julia.ipynb",
   "provenance": [],
   "version": "0.3.2"
  },
  "kernelspec": {
   "display_name": "Julia 1.0.1",
   "language": "julia",
   "name": "julia-1.0"
  },
  "language_info": {
   "file_extension": ".jl",
   "mimetype": "application/julia",
   "name": "julia",
   "version": "1.0.1"
  }
 },
 "nbformat": 4,
 "nbformat_minor": 2
}
